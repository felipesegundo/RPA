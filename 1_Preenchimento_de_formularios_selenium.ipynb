{
 "cells": [
  {
   "cell_type": "code",
   "execution_count": 1,
   "id": "a0e39db4-4825-41aa-9193-64540f9aa39b",
   "metadata": {},
   "outputs": [],
   "source": [
    "# 1 - BAIXE O SELENIUM NO PROMPT DO ANACONDA: pip install selenium, pip install webdriver-manager"
   ]
  },
  {
   "cell_type": "code",
   "execution_count": 6,
   "id": "136eb7ac-6d08-4227-b503-0afdc284b201",
   "metadata": {},
   "outputs": [],
   "source": [
    "from selenium import webdriver\n",
    "from webdriver_manager.chrome import ChromeDriverManager\n",
    "from selenium.webdriver.chrome.service import Service\n",
    "servico = Service(ChromeDriverManager().install())\n",
    "navegador = webdriver.Chrome(service = servico)"
   ]
  },
  {
   "cell_type": "code",
   "execution_count": 2,
   "id": "47d2d6ff-5b8d-4a29-87cb-a95edb7ff023",
   "metadata": {},
   "outputs": [],
   "source": [
    "# Entrar em qualquer página da internet através de um link\n",
    "navegador.get('https://pages.hashtagtreinamentos.com/inscricao-minicurso-python-automacao-org?origemurl=hashtag_yt_org_minipython_8AMNaVt0z_M')\n",
    "\n",
    "# Preencher todos os requisitos do campo: nome, email...\n",
    "# Encontrar o campo de input do nome pelo seu XPATH e inserir o nome \"Felipe Alexandre\"\n",
    "navegador.find_element('xpath', '//*[@id=\"section-10356508\"]/section/div[2]/div/div[2]/form/div[1]/div/div[1]/div/input').send_keys(\"Felipe Alexandre\")\n",
    "\n",
    "# Encontrar o campo de input do email pelo seu XPATH e inserir o email \"fs516629@gmail.com\"\n",
    "navegador.find_element('xpath', '//*[@id=\"section-10356508\"]/section/div[2]/div/div[2]/form/div[1]/div/div[2]/div/input').send_keys(\"fs516629@gmail.com\")\n",
    "\n",
    "# Encontrar o campo de input do telefone pelo seu XPATH e inserir o número \"92 985038866\"\n",
    "navegador.find_element('xpath', '//*[@id=\"section-10356508\"]/section/div[2]/div/div[2]/form/div[1]/div/div[3]/div/input').send_keys(\"92 985038866\")\n",
    "\n",
    "# Clicar no botão para enviar o formulário, encontrado pelo seu XPATH\n",
    "navegador.find_element('xpath', '//*[@id=\"section-10356508\"]/section/div[2]/div/div[2]/form/button/span/b').click()\n",
    "\n",
    "\n"
   ]
  },
  {
   "cell_type": "code",
   "execution_count": null,
   "id": "2234e158-bba8-49d0-b523-b0946d0ffa1f",
   "metadata": {},
   "outputs": [],
   "source": [
    "#clique com o botao direito no site\n",
    "# vá ate em inspecionar\n",
    "# clique na setinha no canto superior esquerdo\n",
    "# clique no campo onde deseja preencher\n",
    "# clique no botao direito do mouse e vá a copiar xpath"
   ]
  },
  {
   "cell_type": "code",
   "execution_count": 11,
   "id": "531e6647-5e75-42b4-9f10-794bb49e7bd3",
   "metadata": {},
   "outputs": [],
   "source": [
    "from selenium import webdriver\n",
    "from webdriver_manager.chrome import ChromeDriverManager\n",
    "from selenium.webdriver.chrome.service import Service\n",
    "servico = Service(ChromeDriverManager().install())\n",
    "navegador = webdriver.Chrome(service = servico)\n",
    "\n",
    "navegador.get('https://pt.surveymonkey.com/r/WLXYDX2')\n",
    "navegador.find_element('xpath', '//*[@id=\"166517069\"]').send_keys(\"Felipe segundo de alexandre monteiro\")\n",
    "navegador.find_element('xpath', '//*[@id=\"166517072\"]').send_keys(\"fs516629@gmail.com\")\n",
    "navegador.find_element('xpath', '//*[@id=\"166517070\"]').send_keys(\"92 985038866\")\n",
    "navegador.find_element('xpath', '//*[@id=\"166517071_1215509812_label\"]/span[1]').click()\n",
    "navegador.find_element('xpath', '//*[@id=\"166517073\"]').send_keys(\"Sou muito lindo\")\n",
    "navegador.find_element('xpath', '//*[@id=\"patas\"]/main/article/section/form/div[2]/button').click()\n",
    "\n"
   ]
  },
  {
   "cell_type": "code",
   "execution_count": null,
   "id": "ad20bddb-4c8a-47c4-b94b-20d3044269b3",
   "metadata": {},
   "outputs": [],
   "source": [
    "# PREENCHENDO FORMULARIO WEB COM EXCEL\n"
   ]
  }
 ],
 "metadata": {
  "kernelspec": {
   "display_name": "Python 3 (ipykernel)",
   "language": "python",
   "name": "python3"
  },
  "language_info": {
   "codemirror_mode": {
    "name": "ipython",
    "version": 3
   },
   "file_extension": ".py",
   "mimetype": "text/x-python",
   "name": "python",
   "nbconvert_exporter": "python",
   "pygments_lexer": "ipython3",
   "version": "3.11.7"
  }
 },
 "nbformat": 4,
 "nbformat_minor": 5
}
