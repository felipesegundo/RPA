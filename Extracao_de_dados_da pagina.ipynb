{
 "cells": [
  {
   "cell_type": "code",
   "execution_count": 1,
   "id": "0d23981e-7eee-4f8e-97a0-3a3700257b2c",
   "metadata": {},
   "outputs": [],
   "source": [
    "from selenium import webdriver"
   ]
  },
  {
   "cell_type": "code",
   "execution_count": 3,
   "id": "a4c495fd-0916-4467-a02a-92a8574fe69e",
   "metadata": {},
   "outputs": [],
   "source": [
    "driver = webdriver.Chrome()"
   ]
  },
  {
   "cell_type": "code",
   "execution_count": 16,
   "id": "89192fe2-b268-46a2-93ec-17c53606ed6b",
   "metadata": {},
   "outputs": [],
   "source": [
    "driver.get(\"https://www.statusinvest.com.br/fundos-imobiliarios/knri11\")\n",
    "driver.implicitly_wait(3) # tempo de espera"
   ]
  },
  {
   "cell_type": "code",
   "execution_count": 36,
   "id": "7939cae3-9312-4309-81c5-c25353074b27",
   "metadata": {},
   "outputs": [
    {
     "data": {
      "text/plain": [
       "'RENDIMENTO 28/03/2024 12/04/2024 1,00000000'"
      ]
     },
     "execution_count": 36,
     "metadata": {},
     "output_type": "execute_result"
    }
   ],
   "source": [
    "#extraindo um dado de 'xpath' quando não há id, nome e classe\n",
    "valor_tabela = driver.find_element(\"xpath\", '//*[@id=\"earning-section\"]/div[7]/div/div[2]/table/tbody/tr[4]').text \n",
    "ultimo_rendimento = driver.find_element(\"xpath\", '//*[@id=\"dy-info\"]/div/div[1]/strong').text"
   ]
  },
  {
   "cell_type": "code",
   "execution_count": 42,
   "id": "d613c54a-89e3-438c-a3bc-6eca15dcbc31",
   "metadata": {},
   "outputs": [
    {
     "name": "stdout",
     "output_type": "stream",
     "text": [
      "1,0000\n",
      "RENDIMENTO 28/03/2024 12/04/2024 1,00000000\n"
     ]
    }
   ],
   "source": [
    "print(ultimo_rendimento)\n",
    "print(valor_tabela)"
   ]
  },
  {
   "cell_type": "code",
   "execution_count": null,
   "id": "ec320763-fb52-4797-8d3a-5ab32c413e8a",
   "metadata": {},
   "outputs": [],
   "source": [
    "# FUNÇÕES UTEIS\n",
    "#driver.back() volta a pagina anterior\n",
    "#driver.forward() segue para a proxima pagina\n",
    "#driver.refresh() recarrega a pagina\n",
    "#driver.close() fecha a pagina"
   ]
  },
  {
   "cell_type": "code",
   "execution_count": 86,
   "id": "891189b2-7117-46e9-bdce-88f33b75a89f",
   "metadata": {},
   "outputs": [],
   "source": [
    "# CLICANDO EM BOTOES DA PAGINA\n",
    "driver.get(\"https://loterias.caixa.gov.br/Paginas/default.aspx\")\n",
    "driver.implicitly_wait(3) # tempo de espera\n",
    "driver.find_element('xpath', '//*[@id=\"PlaceHolderMain_g_1b75e2a9_f48b_459c_94e9_112b73cce716\"]/div/div[5]/div/div[2]/p[3]/button').click()\n",
    "driver.back()"
   ]
  },
  {
   "cell_type": "code",
   "execution_count": 90,
   "id": "b24350e9-b675-47e6-96b7-689b1cffe381",
   "metadata": {},
   "outputs": [],
   "source": [
    "# ESCREVENDO EM BARRA DE PESQUISA\n",
    "driver.get(\"https://loterias.caixa.gov.br/Paginas/default.aspx\")\n",
    "driver.implicitly_wait(3) # tempo de espera\n",
    "driver.find_element('xpath', '//*[@id=\"q\"]').send_keys(\"jogo\")\n",
    "driver.find_element('xpath', '//*[@id=\"main-nav\"]/div[1]/div/button').click()\n"
   ]
  },
  {
   "cell_type": "code",
   "execution_count": 96,
   "id": "9cbcc921-4e1b-4cbd-868a-94d1af5dec2f",
   "metadata": {},
   "outputs": [],
   "source": [
    "# MANIPULANDO ELEMENTOS SELECT\n",
    "driver.get(\"https://loterias.caixa.gov.br/Paginas/default.aspx\")\n",
    "driver.implicitly_wait(3) # tempo de espera\n",
    "driver.find_element('xpath', '//*[@id=\"main-nav\"]/div[1]/ul/li[1]/a').click()\n",
    "driver.implicitly_wait(2)\n",
    "driver.find_element('xpath', '//*[@id=\"main-nav\"]/div[1]/ul/li[1]/div/div/ul/li[2]/a').click()\n",
    "driver.implicitly_wait(2)\n"
   ]
  },
  {
   "cell_type": "code",
   "execution_count": null,
   "id": "b0107a4b-8e12-4932-9c8b-67ad0361fb62",
   "metadata": {},
   "outputs": [],
   "source": []
  }
 ],
 "metadata": {
  "kernelspec": {
   "display_name": "Python 3 (ipykernel)",
   "language": "python",
   "name": "python3"
  },
  "language_info": {
   "codemirror_mode": {
    "name": "ipython",
    "version": 3
   },
   "file_extension": ".py",
   "mimetype": "text/x-python",
   "name": "python",
   "nbconvert_exporter": "python",
   "pygments_lexer": "ipython3",
   "version": "3.12.4"
  }
 },
 "nbformat": 4,
 "nbformat_minor": 5
}
