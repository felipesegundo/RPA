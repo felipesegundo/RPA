{
 "cells": [
  {
   "cell_type": "code",
   "execution_count": 1,
   "id": "90acabee-a0f2-4c66-ac4f-078dff14957c",
   "metadata": {},
   "outputs": [],
   "source": [
    "from selenium import webdriver\n",
    "driver = webdriver.Chrome()"
   ]
  },
  {
   "cell_type": "code",
   "execution_count": 13,
   "id": "ae4f9afb-e1fe-4f06-a7dd-636d43eb95b6",
   "metadata": {},
   "outputs": [],
   "source": [
    "driver.get('https://www.google.com.br/') # acessa uma pagina"
   ]
  },
  {
   "cell_type": "code",
   "execution_count": 10,
   "id": "549c3991-b010-4a35-aab6-72aff2f68104",
   "metadata": {},
   "outputs": [],
   "source": [
    "driver.refresh # recarrega a pagina"
   ]
  },
  {
   "cell_type": "code",
   "execution_count": 12,
   "id": "b8469c37-f9a7-4b9e-b74b-5d4a5ccc79c3",
   "metadata": {},
   "outputs": [],
   "source": [
    "driver.back() # volta a pagina anterior"
   ]
  },
  {
   "cell_type": "code",
   "execution_count": null,
   "id": "72cd523d-6f70-42ec-ae85-acba9a4e4b54",
   "metadata": {},
   "outputs": [],
   "source": [
    "driver.forward() # avança para a pagina posterior"
   ]
  },
  {
   "cell_type": "code",
   "execution_count": 14,
   "id": "435fb2e4-7170-4774-bcfa-0635191a3876",
   "metadata": {},
   "outputs": [],
   "source": [
    "driver.quit() # encerra o driver"
   ]
  },
  {
   "cell_type": "code",
   "execution_count": null,
   "id": "ac3d7ae1-6568-4bba-baa4-e62b80e14bcf",
   "metadata": {},
   "outputs": [],
   "source": [
    "///////////////////////////////////////////////////////////////////////////////////////////////////////////////////////////////////"
   ]
  },
  {
   "cell_type": "code",
   "execution_count": 18,
   "id": "c766ab2b-098b-49bc-af99-693459681e11",
   "metadata": {},
   "outputs": [],
   "source": [
    "from selenium import webdriver\n",
    "\n",
    "driver = webdriver.Chrome()\n",
    "\n",
    "driver.get('https://pages.hashtagtreinamentos.com/inscricao-minicurso-python-automacao-org?origemurl=hashtag_yt_org_minipython_8AMNaVt0z_M')\n",
    "\n",
    "driver.find_element('xpath', '//*[@id=\"section-10356508\"]/section/div[2]/div/div[2]/form/div[1]/div/div[1]/div/input').send_keys(\"Felipe Alexandre\")\n",
    "\n",
    "driver.find_element('xpath', '//*[@id=\"section-10356508\"]/section/div[2]/div/div[2]/form/div[1]/div/div[2]/div/input').send_keys(\"fs516629@gmail.com\")\n",
    "\n",
    "driver.find_element('xpath', '//*[@id=\"section-10356508\"]/section/div[2]/div/div[2]/form/div[1]/div/div[3]/div/input').send_keys(\"92 985038866\")\n",
    "\n",
    "\n",
    "driver.find_element('xpath', '//*[@id=\"section-10356508\"]/section/div[2]/div/div[2]/form/button/span/b').click()\n",
    "\n",
    "driver.back()\n"
   ]
  },
  {
   "cell_type": "code",
   "execution_count": 22,
   "id": "0a674d59-517a-47e7-9751-78c89ff2df44",
   "metadata": {},
   "outputs": [],
   "source": [
    "# PREENCHENDO O FORMUARIO 10 VEZES\n",
    "from selenium import webdriver\n",
    "driver = webdriver.Chrome()\n",
    "\n",
    "url = 'https://pages.hashtagtreinamentos.com/inscricao-minicurso-python-automacao-org?origemurl=hashtag_yt_org_minipython_8AMNaVt0z_M'\n",
    "\n",
    "# Dados para preenchimento do formulário\n",
    "nome = \"Felipe Alexandre\"\n",
    "email = \"fs516629@gmail.com\"\n",
    "telefone = \"92 985038866\"\n",
    "\n",
    "# Número de vezes para preencher o formulário\n",
    "num_repeticoes = 10\n",
    "\n",
    "for _ in range(num_repeticoes):\n",
    "    # Abrir a URL do formulário\n",
    "    driver.get(url)\n",
    "    \n",
    "    # Preencher os campos do formulário\n",
    "    driver.find_element('xpath', '//*[@id=\"section-10356508\"]/section/div[2]/div/div[2]/form/div[1]/div/div[1]/div/input').send_keys(nome)\n",
    "    driver.find_element('xpath', '//*[@id=\"section-10356508\"]/section/div[2]/div/div[2]/form/div[1]/div/div[2]/div/input').send_keys(email)\n",
    "    driver.find_element('xpath', '//*[@id=\"section-10356508\"]/section/div[2]/div/div[2]/form/div[1]/div/div[3]/div/input').send_keys(telefone)\n",
    "    \n",
    "    # Pausa para simular tempo de preenchimento\n",
    "    time.sleep(3)\n",
    "    \n",
    "    # Enviar o formulário\n",
    "    driver.find_element('xpath', '//*[@id=\"section-10356508\"]/section/div[2]/div/div[2]/form/button/span/b').click()\n",
    "    \n",
    "    # Pausa para aguardar a submissão e voltar à página anterior\n",
    "    time.sleep(3)\n",
    "    driver.back()\n",
    "\n",
    "# Fechar o driver após a conclusão\n",
    "driver.quit()"
   ]
  },
  {
   "cell_type": "code",
   "execution_count": 36,
   "id": "749c85dd-c1e6-4037-ba7f-8304652b2e40",
   "metadata": {},
   "outputs": [],
   "source": [
    "# TEMPO DE ESPERA\n",
    "# Importa a classe WebDriver do módulo selenium\n",
    "from selenium import webdriver\n",
    "# Importa a classe WebDriverWait do módulo selenium.webdriver.support.ui\n",
    "from selenium.webdriver.support.ui import WebDriverWait\n",
    "# Importa expected_conditions do módulo selenium.webdriver.support e renomeia como EC (alias)\n",
    "from selenium.webdriver.support import expected_conditions as EC\n",
    "# Importa By do módulo selenium.webdriver.common para permitir seleções por diferentes critérios (ID, XPath, etc.)\n",
    "from selenium.webdriver.common.by import By\n",
    "\n",
    "\n",
    "# Inicializa o driver (neste exemplo, estamos usando o Chrome)\n",
    "driver = webdriver.Chrome()\n",
    "\n",
    "# Navega para a página desejada\n",
    "driver.get('https://pages.hashtagtreinamentos.com/inscricao-minicurso-python-automacao-org?origemurl=hashtag_yt_org_minipython_8AMNaVt0z_M')\n",
    "\n",
    "# Define o tempo de espera máximo (em segundos)\n",
    "timeout = 30\n",
    "\n",
    "# Aguarda até que os elementos estejam presentes na página\n",
    "WebDriverWait(driver, timeout).until(EC.presence_of_element_located((By.XPATH, '//*[@id=\"section-10356508\"]/section/div[2]/div/div[2]/form/div[1]/div/div[1]/div/input')))\n",
    "WebDriverWait(driver, timeout).until(EC.presence_of_element_located((By.XPATH, '//*[@id=\"section-10356508\"]/section/div[2]/div/div[2]/form/div[1]/div/div[2]/div/input')))\n",
    "WebDriverWait(driver, timeout).until(EC.presence_of_element_located((By.XPATH, '//*[@id=\"section-10356508\"]/section/div[2]/div/div[2]/form/div[1]/div/div[3]/div/input')))\n",
    "WebDriverWait(driver, timeout).until(EC.presence_of_element_located((By.XPATH, '//*[@id=\"section-10356508\"]/section/div[2]/div/div[2]/form/button/span/b')))\n",
    "\n",
    "# Preenche o formulário\n",
    "driver.find_element(By.XPATH, '//*[@id=\"section-10356508\"]/section/div[2]/div/div[2]/form/div[1]/div/div[1]/div/input').send_keys(\"Felipe Alexandre\")\n",
    "driver.find_element(By.XPATH, '//*[@id=\"section-10356508\"]/section/div[2]/div/div[2]/form/div[1]/div/div[2]/div/input').send_keys(\"fs516629@gmail.com\")\n",
    "driver.find_element(By.XPATH, '//*[@id=\"section-10356508\"]/section/div[2]/div/div[2]/form/div[1]/div/div[3]/div/input').send_keys(\"92 985038866\")\n",
    "\n",
    "# Clica no botão de envio\n",
    "driver.find_element(By.XPATH, '//*[@id=\"section-10356508\"]/section/div[2]/div/div[2]/form/button/span/b').click()\n",
    "\n",
    "# Feche o driver após a utilização\n",
    "driver.quit()\n"
   ]
  }
 ],
 "metadata": {
  "kernelspec": {
   "display_name": "Python 3 (ipykernel)",
   "language": "python",
   "name": "python3"
  },
  "language_info": {
   "codemirror_mode": {
    "name": "ipython",
    "version": 3
   },
   "file_extension": ".py",
   "mimetype": "text/x-python",
   "name": "python",
   "nbconvert_exporter": "python",
   "pygments_lexer": "ipython3",
   "version": "3.11.7"
  }
 },
 "nbformat": 4,
 "nbformat_minor": 5
}
