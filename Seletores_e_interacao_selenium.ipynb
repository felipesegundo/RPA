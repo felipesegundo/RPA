{
 "cells": [
  {
   "cell_type": "code",
   "execution_count": 1,
   "id": "6854a6fa-2019-44b9-95a8-6186fee56fe5",
   "metadata": {},
   "outputs": [],
   "source": [
    "from selenium import webdriver\n",
    "from selenium.webdriver.common.by import By\n",
    "from selenium.webdriver.common.keys import Keys\n",
    "from time import sleep"
   ]
  },
  {
   "cell_type": "code",
   "execution_count": 9,
   "id": "c888f2e8-78b5-4e28-a3b5-c96058d726da",
   "metadata": {},
   "outputs": [],
   "source": [
    "driver = webdriver.Chrome()\n",
    "sleep(5)"
   ]
  },
  {
   "cell_type": "code",
   "execution_count": 10,
   "id": "7800f7e1-253c-4a9f-b149-44a014657a4b",
   "metadata": {},
   "outputs": [],
   "source": [
    "driver.get('https://news.ycombinator.com/submit')\n",
    "sleep(2)"
   ]
  },
  {
   "cell_type": "code",
   "execution_count": 11,
   "id": "89fdcec8-b747-41d5-8519-9a4c3d914338",
   "metadata": {},
   "outputs": [],
   "source": [
    "usuario = driver.find_element(By.NAME, 'acct') # procure por name no html\n",
    "usuario.send_keys('hacker_news1234')"
   ]
  },
  {
   "cell_type": "code",
   "execution_count": 13,
   "id": "7a3a0988-ec95-430f-9c19-702b5dad81ca",
   "metadata": {},
   "outputs": [],
   "source": [
    "senha = driver.find_element(By.NAME, 'pw') # procure por name no html\n",
    "usuario.send_keys('hacker_news1234')\n",
    "senha.send_keys(\"hacker_news\")"
   ]
  },
  {
   "cell_type": "code",
   "execution_count": 14,
   "id": "ac2f351e-eddc-4d19-9bd1-a1672f94502d",
   "metadata": {},
   "outputs": [],
   "source": [
    "botao_login = driver.find_element(By.CSS_SELECTOR, 'body > form:nth-child(6) > input[type=submit]') # copioar selector\n",
    "botao_login.click()"
   ]
  },
  {
   "cell_type": "code",
   "execution_count": null,
   "id": "f82ac51a-781c-4123-bea3-2d589f1bfe3d",
   "metadata": {},
   "outputs": [],
   "source": []
  }
 ],
 "metadata": {
  "kernelspec": {
   "display_name": "Python 3 (ipykernel)",
   "language": "python",
   "name": "python3"
  },
  "language_info": {
   "codemirror_mode": {
    "name": "ipython",
    "version": 3
   },
   "file_extension": ".py",
   "mimetype": "text/x-python",
   "name": "python",
   "nbconvert_exporter": "python",
   "pygments_lexer": "ipython3",
   "version": "3.11.7"
  }
 },
 "nbformat": 4,
 "nbformat_minor": 5
}
